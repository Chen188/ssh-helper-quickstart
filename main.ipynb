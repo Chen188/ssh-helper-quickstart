{
 "cells": [
  {
   "cell_type": "code",
   "execution_count": null,
   "id": "ef41da39-9411-4396-bee5-721aa17272d4",
   "metadata": {
    "tags": []
   },
   "outputs": [],
   "source": [
    "%pip install sagemaker_ssh_helper sagemaker"
   ]
  },
  {
   "cell_type": "code",
   "execution_count": null,
   "id": "23d6f040-d0e6-4741-896c-500fec2f04aa",
   "metadata": {
    "tags": []
   },
   "outputs": [],
   "source": [
    "import os\n",
    "\n",
    "ACCOUNT_ID=os.popen(\"aws sts get-caller-identity --query 'Account' --output text\").read().strip()\n",
    "ROLE_NAME = 'sshhelper-for-sagemaker-role'\n",
    "ROLE_ARN = f\"arn:aws:iam::{ACCOUNT_ID}:role/{ROLE_NAME}\"\n",
    "\n",
    "import logging\n",
    "from sagemaker.pytorch import PyTorch\n",
    "from sagemaker_ssh_helper.wrapper import SSHEstimatorWrapper  # <--NEW--\n",
    "\n",
    "\n",
    "estimator = PyTorch(\n",
    "    entry_point='fake-train.py',\n",
    "    source_dir='src/',\n",
    "    dependencies=[SSHEstimatorWrapper.dependency_dir()],  # <--NEW \n",
    "    # (alternatively, add sagemaker_ssh_helper into requirements.txt \n",
    "    # inside source dir) --\n",
    "    role=ROLE_ARN,\n",
    "    framework_version='1.9.1',\n",
    "    py_version='py38',\n",
    "    instance_count=1,\n",
    "    instance_type='ml.m5.xlarge',\n",
    ")\n",
    "\n",
    "ssh_wrapper = SSHEstimatorWrapper.create(estimator, connection_wait_time_seconds=600)  # <--NEW--\n",
    "\n",
    "estimator.fit(wait=False)"
   ]
  },
  {
   "cell_type": "code",
   "execution_count": null,
   "id": "6146ffda-c1b2-426d-9c49-403fbce1414e",
   "metadata": {
    "tags": []
   },
   "outputs": [],
   "source": [
    "instance_ids = ssh_wrapper.get_instance_ids(timeout_in_sec=900)  # <--NEW-- "
   ]
  },
  {
   "cell_type": "code",
   "execution_count": null,
   "id": "2a899320-79d1-4a3f-a6a4-9fcf69af6756",
   "metadata": {
    "tags": []
   },
   "outputs": [],
   "source": [
    "logging.info(f\"To connect over SSH run: sm-local-ssh-training connect {ssh_wrapper.training_job_name()}\")"
   ]
  },
  {
   "cell_type": "code",
   "execution_count": null,
   "id": "d1f85b35-a556-4662-bec5-49d8b359db5c",
   "metadata": {},
   "outputs": [],
   "source": [
    "logging.info(f\"To connect over SSM run: aws ssm start-session --target {instance_ids[0]}\")"
   ]
  }
 ],
 "metadata": {
  "kernelspec": {
   "display_name": "base",
   "language": "python",
   "name": "python3"
  },
  "language_info": {
   "codemirror_mode": {
    "name": "ipython",
    "version": 3
   },
   "file_extension": ".py",
   "mimetype": "text/x-python",
   "name": "python",
   "nbconvert_exporter": "python",
   "pygments_lexer": "ipython3",
   "version": "3.8.8"
  }
 },
 "nbformat": 4,
 "nbformat_minor": 5
}
